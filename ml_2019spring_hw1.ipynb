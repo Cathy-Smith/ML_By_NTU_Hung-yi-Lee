{
  "nbformat": 4,
  "nbformat_minor": 0,
  "metadata": {
    "colab": {
      "name": "ml-2019spring-hw1.ipynb",
      "version": "0.3.2",
      "provenance": [],
      "collapsed_sections": [],
      "include_colab_link": true
    },
    "kernelspec": {
      "name": "python3",
      "display_name": "Python 3"
    },
    "accelerator": "GPU"
  },
  "cells": [
    {
      "cell_type": "markdown",
      "metadata": {
        "id": "view-in-github",
        "colab_type": "text"
      },
      "source": [
        "<a href=\"https://colab.research.google.com/github/linlih/ML_By_NTU_Hung-yi-Lee/blob/master/ml_2019spring_hw1.ipynb\" target=\"_parent\"><img src=\"https://colab.research.google.com/assets/colab-badge.svg\" alt=\"Open In Colab\"/></a>"
      ]
    },
    {
      "cell_type": "markdown",
      "metadata": {
        "id": "gwNwVBIubJ--",
        "colab_type": "text"
      },
      "source": [
        "## HW1作业说明\n",
        "\n",
        "作业目标：给定9个小时豐原站的天气指标数据，预测的下一个小时的PM2.5值。"
      ]
    },
    {
      "cell_type": "markdown",
      "metadata": {
        "id": "MSkVOtOcbQFl",
        "colab_type": "text"
      },
      "source": [
        "## 下载数据\n",
        "\n",
        "Kaggle下载数据集的话需要进行身份验证，身份信息存储在kaggle.json文件中\n",
        "\n",
        "kaggle.json文件需要在Kaggle官网的个人账号中进行生成。参考网址：https://www.kaggle.com/用户名/account ，其中用户名为你个人的用户名，这个页面在API的地方选择Create New API Token即可生成该文件。\n",
        "\n",
        "注意：该文件只能有一个生效，生成多个，最后一个生成的才有效。"
      ]
    },
    {
      "cell_type": "code",
      "metadata": {
        "id": "9-WYGXcjUDo0",
        "colab_type": "code",
        "colab": {}
      },
      "source": [
        "from google.colab import files\n",
        "files.upload()"
      ],
      "execution_count": 0,
      "outputs": []
    },
    {
      "cell_type": "code",
      "metadata": {
        "id": "PVog0CwgVUyo",
        "colab_type": "code",
        "outputId": "ff6a44ce-1246-4f24-e654-e6d820852796",
        "colab": {
          "base_uri": "https://localhost:8080/",
          "height": 34
        }
      },
      "source": [
        "!mkdir -p ~/.kaggle\n",
        "!cp kaggle.json ~/.kaggle/\n",
        "!chmod 600 ~/.kaggle/kaggle.json\n",
        "!ls ~/.kaggle"
      ],
      "execution_count": 19,
      "outputs": [
        {
          "output_type": "stream",
          "text": [
            "kaggle.json\n"
          ],
          "name": "stdout"
        }
      ]
    },
    {
      "cell_type": "code",
      "metadata": {
        "id": "4Yur1TaPVZgI",
        "colab_type": "code",
        "outputId": "8c40c485-97e1-4bf1-f036-96677d828161",
        "colab": {
          "base_uri": "https://localhost:8080/",
          "height": 168
        }
      },
      "source": [
        "!kaggle competitions download -c ml2019spring-hw1"
      ],
      "execution_count": 20,
      "outputs": [
        {
          "output_type": "stream",
          "text": [
            "Downloading train.csv to /content\n",
            "\r  0% 0.00/455k [00:00<?, ?B/s]\n",
            "\r100% 455k/455k [00:00<00:00, 62.2MB/s]\n",
            "Downloading test.csv to /content\n",
            "\r  0% 0.00/192k [00:00<?, ?B/s]\n",
            "100% 192k/192k [00:00<00:00, 61.5MB/s]\n",
            "Downloading sampleSubmission.csv to /content\n",
            "  0% 0.00/2.25k [00:00<?, ?B/s]\n",
            "100% 2.25k/2.25k [00:00<00:00, 2.28MB/s]\n"
          ],
          "name": "stdout"
        }
      ]
    },
    {
      "cell_type": "code",
      "metadata": {
        "id": "JdLi4fFBVeXX",
        "colab_type": "code",
        "outputId": "9694584d-6335-446a-e47e-852a9d92428b",
        "colab": {
          "base_uri": "https://localhost:8080/",
          "height": 34
        }
      },
      "source": [
        "!ls"
      ],
      "execution_count": 21,
      "outputs": [
        {
          "output_type": "stream",
          "text": [
            "kaggle.json  sample_data  sampleSubmission.csv\ttest.csv  train.csv\n"
          ],
          "name": "stdout"
        }
      ]
    },
    {
      "cell_type": "markdown",
      "metadata": {
        "id": "X1VxvMjEamgh",
        "colab_type": "text"
      },
      "source": [
        "### 数据说明\n",
        "\n",
        "从Kaggle上下载得到的数据中train.csv是存在编码错误的，使用Linux的命令iconv重新编码为UTF-8还是有问题，下载到本地，使用Notepad++打开并编码为UTF-8即可。"
      ]
    },
    {
      "cell_type": "code",
      "metadata": {
        "id": "TocOEoCPVjE6",
        "colab_type": "code",
        "colab": {
          "base_uri": "https://localhost:8080/",
          "height": 195
        },
        "outputId": "741e92b4-3b61-41ec-9f3b-2a0d2d225a20"
      },
      "source": [
        "import pandas\n",
        "\n",
        "# data = pandas.read_csv('train.csv', encoding='utf-8') \n",
        "# 这里的格式编码要注意修改成big5\n",
        "data = pandas.read_csv('train.csv', encoding='big5')\n",
        "data.head()"
      ],
      "execution_count": 22,
      "outputs": [
        {
          "output_type": "execute_result",
          "data": {
            "text/html": [
              "<div>\n",
              "<style scoped>\n",
              "    .dataframe tbody tr th:only-of-type {\n",
              "        vertical-align: middle;\n",
              "    }\n",
              "\n",
              "    .dataframe tbody tr th {\n",
              "        vertical-align: top;\n",
              "    }\n",
              "\n",
              "    .dataframe thead th {\n",
              "        text-align: right;\n",
              "    }\n",
              "</style>\n",
              "<table border=\"1\" class=\"dataframe\">\n",
              "  <thead>\n",
              "    <tr style=\"text-align: right;\">\n",
              "      <th></th>\n",
              "      <th>日期</th>\n",
              "      <th>測站</th>\n",
              "      <th>測項</th>\n",
              "      <th>0</th>\n",
              "      <th>1</th>\n",
              "      <th>2</th>\n",
              "      <th>3</th>\n",
              "      <th>4</th>\n",
              "      <th>5</th>\n",
              "      <th>6</th>\n",
              "      <th>7</th>\n",
              "      <th>8</th>\n",
              "      <th>9</th>\n",
              "      <th>10</th>\n",
              "      <th>11</th>\n",
              "      <th>12</th>\n",
              "      <th>13</th>\n",
              "      <th>14</th>\n",
              "      <th>15</th>\n",
              "      <th>16</th>\n",
              "      <th>17</th>\n",
              "      <th>18</th>\n",
              "      <th>19</th>\n",
              "      <th>20</th>\n",
              "      <th>21</th>\n",
              "      <th>22</th>\n",
              "      <th>23</th>\n",
              "    </tr>\n",
              "  </thead>\n",
              "  <tbody>\n",
              "    <tr>\n",
              "      <th>0</th>\n",
              "      <td>2014/1/1</td>\n",
              "      <td>豐原</td>\n",
              "      <td>AMB_TEMP</td>\n",
              "      <td>14</td>\n",
              "      <td>14</td>\n",
              "      <td>14</td>\n",
              "      <td>13</td>\n",
              "      <td>12</td>\n",
              "      <td>12</td>\n",
              "      <td>12</td>\n",
              "      <td>12</td>\n",
              "      <td>15</td>\n",
              "      <td>17</td>\n",
              "      <td>20</td>\n",
              "      <td>22</td>\n",
              "      <td>22</td>\n",
              "      <td>22</td>\n",
              "      <td>22</td>\n",
              "      <td>22</td>\n",
              "      <td>21</td>\n",
              "      <td>19</td>\n",
              "      <td>17</td>\n",
              "      <td>16</td>\n",
              "      <td>15</td>\n",
              "      <td>15</td>\n",
              "      <td>15</td>\n",
              "      <td>15</td>\n",
              "    </tr>\n",
              "    <tr>\n",
              "      <th>1</th>\n",
              "      <td>2014/1/1</td>\n",
              "      <td>豐原</td>\n",
              "      <td>CH4</td>\n",
              "      <td>1.8</td>\n",
              "      <td>1.8</td>\n",
              "      <td>1.8</td>\n",
              "      <td>1.8</td>\n",
              "      <td>1.8</td>\n",
              "      <td>1.8</td>\n",
              "      <td>1.8</td>\n",
              "      <td>1.8</td>\n",
              "      <td>1.8</td>\n",
              "      <td>1.8</td>\n",
              "      <td>1.8</td>\n",
              "      <td>1.8</td>\n",
              "      <td>1.8</td>\n",
              "      <td>1.8</td>\n",
              "      <td>1.8</td>\n",
              "      <td>1.8</td>\n",
              "      <td>1.8</td>\n",
              "      <td>1.8</td>\n",
              "      <td>1.8</td>\n",
              "      <td>1.8</td>\n",
              "      <td>1.8</td>\n",
              "      <td>1.8</td>\n",
              "      <td>1.8</td>\n",
              "      <td>1.8</td>\n",
              "    </tr>\n",
              "    <tr>\n",
              "      <th>2</th>\n",
              "      <td>2014/1/1</td>\n",
              "      <td>豐原</td>\n",
              "      <td>CO</td>\n",
              "      <td>0.51</td>\n",
              "      <td>0.41</td>\n",
              "      <td>0.39</td>\n",
              "      <td>0.37</td>\n",
              "      <td>0.35</td>\n",
              "      <td>0.3</td>\n",
              "      <td>0.37</td>\n",
              "      <td>0.47</td>\n",
              "      <td>0.78</td>\n",
              "      <td>0.74</td>\n",
              "      <td>0.59</td>\n",
              "      <td>0.52</td>\n",
              "      <td>0.41</td>\n",
              "      <td>0.4</td>\n",
              "      <td>0.37</td>\n",
              "      <td>0.37</td>\n",
              "      <td>0.47</td>\n",
              "      <td>0.69</td>\n",
              "      <td>0.56</td>\n",
              "      <td>0.45</td>\n",
              "      <td>0.38</td>\n",
              "      <td>0.35</td>\n",
              "      <td>0.36</td>\n",
              "      <td>0.32</td>\n",
              "    </tr>\n",
              "    <tr>\n",
              "      <th>3</th>\n",
              "      <td>2014/1/1</td>\n",
              "      <td>豐原</td>\n",
              "      <td>NMHC</td>\n",
              "      <td>0.2</td>\n",
              "      <td>0.15</td>\n",
              "      <td>0.13</td>\n",
              "      <td>0.12</td>\n",
              "      <td>0.11</td>\n",
              "      <td>0.06</td>\n",
              "      <td>0.1</td>\n",
              "      <td>0.13</td>\n",
              "      <td>0.26</td>\n",
              "      <td>0.23</td>\n",
              "      <td>0.2</td>\n",
              "      <td>0.18</td>\n",
              "      <td>0.12</td>\n",
              "      <td>0.11</td>\n",
              "      <td>0.1</td>\n",
              "      <td>0.13</td>\n",
              "      <td>0.14</td>\n",
              "      <td>0.23</td>\n",
              "      <td>0.18</td>\n",
              "      <td>0.12</td>\n",
              "      <td>0.1</td>\n",
              "      <td>0.09</td>\n",
              "      <td>0.1</td>\n",
              "      <td>0.08</td>\n",
              "    </tr>\n",
              "    <tr>\n",
              "      <th>4</th>\n",
              "      <td>2014/1/1</td>\n",
              "      <td>豐原</td>\n",
              "      <td>NO</td>\n",
              "      <td>0.9</td>\n",
              "      <td>0.6</td>\n",
              "      <td>0.5</td>\n",
              "      <td>1.7</td>\n",
              "      <td>1.8</td>\n",
              "      <td>1.5</td>\n",
              "      <td>1.9</td>\n",
              "      <td>2.2</td>\n",
              "      <td>6.6</td>\n",
              "      <td>7.9</td>\n",
              "      <td>4.2</td>\n",
              "      <td>2.9</td>\n",
              "      <td>3.4</td>\n",
              "      <td>3</td>\n",
              "      <td>2.5</td>\n",
              "      <td>2.2</td>\n",
              "      <td>2.5</td>\n",
              "      <td>2.3</td>\n",
              "      <td>2.1</td>\n",
              "      <td>1.9</td>\n",
              "      <td>1.5</td>\n",
              "      <td>1.6</td>\n",
              "      <td>1.8</td>\n",
              "      <td>1.5</td>\n",
              "    </tr>\n",
              "  </tbody>\n",
              "</table>\n",
              "</div>"
            ],
            "text/plain": [
              "         日期  測站        測項     0     1     2  ...    18    19    20    21    22    23\n",
              "0  2014/1/1  豐原  AMB_TEMP    14    14    14  ...    17    16    15    15    15    15\n",
              "1  2014/1/1  豐原       CH4   1.8   1.8   1.8  ...   1.8   1.8   1.8   1.8   1.8   1.8\n",
              "2  2014/1/1  豐原        CO  0.51  0.41  0.39  ...  0.56  0.45  0.38  0.35  0.36  0.32\n",
              "3  2014/1/1  豐原      NMHC   0.2  0.15  0.13  ...  0.18  0.12   0.1  0.09   0.1  0.08\n",
              "4  2014/1/1  豐原        NO   0.9   0.6   0.5  ...   2.1   1.9   1.5   1.6   1.8   1.5\n",
              "\n",
              "[5 rows x 27 columns]"
            ]
          },
          "metadata": {
            "tags": []
          },
          "execution_count": 22
        }
      ]
    },
    {
      "cell_type": "code",
      "metadata": {
        "id": "UYYA6qyXhaNj",
        "colab_type": "code",
        "colab": {
          "base_uri": "https://localhost:8080/",
          "height": 554
        },
        "outputId": "6d916ad7-e29f-4490-a956-d0abc4eb0503"
      },
      "source": [
        "data.info() # 可以看到所有的数据格式都为non-null，后面要将其给定为float"
      ],
      "execution_count": 23,
      "outputs": [
        {
          "output_type": "stream",
          "text": [
            "<class 'pandas.core.frame.DataFrame'>\n",
            "RangeIndex: 4320 entries, 0 to 4319\n",
            "Data columns (total 27 columns):\n",
            "日期    4320 non-null object\n",
            "測站    4320 non-null object\n",
            "測項    4320 non-null object\n",
            "0     4320 non-null object\n",
            "1     4320 non-null object\n",
            "2     4320 non-null object\n",
            "3     4320 non-null object\n",
            "4     4320 non-null object\n",
            "5     4320 non-null object\n",
            "6     4320 non-null object\n",
            "7     4320 non-null object\n",
            "8     4320 non-null object\n",
            "9     4320 non-null object\n",
            "10    4320 non-null object\n",
            "11    4320 non-null object\n",
            "12    4320 non-null object\n",
            "13    4320 non-null object\n",
            "14    4320 non-null object\n",
            "15    4320 non-null object\n",
            "16    4320 non-null object\n",
            "17    4320 non-null object\n",
            "18    4320 non-null object\n",
            "19    4320 non-null object\n",
            "20    4320 non-null object\n",
            "21    4320 non-null object\n",
            "22    4320 non-null object\n",
            "23    4320 non-null object\n",
            "dtypes: object(27)\n",
            "memory usage: 911.3+ KB\n"
          ],
          "name": "stdout"
        }
      ]
    },
    {
      "cell_type": "markdown",
      "metadata": {
        "id": "D9rfjckxbWvU",
        "colab_type": "text"
      },
      "source": [
        "## 数据预处理、\n",
        "\n",
        "数据格式的讲解见：\n",
        "https://www.bilibili.com/video/av10590361/?p=9"
      ]
    },
    {
      "cell_type": "markdown",
      "metadata": {
        "id": "1Bgttj6hfkYw",
        "colab_type": "text"
      },
      "source": [
        "分割出数据中的特征和标签\n",
        "\n",
        "训练数据中给了24个小时的数据，总共是12个月，每个月20天，每天测量的是18个空气指标，在这里我们只选用PM2.5的空气指标，用前9个小时的PM2.5的值来预测第10个小时的PM2.5值。根据这个构建训练数据。\n",
        "\n",
        "每天24个小时，所以一天总共可以生成15（24 - 9）个example。总共是240天，所以一共的训练example量为3600（240 X 15）个。"
      ]
    },
    {
      "cell_type": "code",
      "metadata": {
        "id": "glakqtEmimUF",
        "colab_type": "code",
        "colab": {}
      },
      "source": [
        "import numpy as np\n",
        "np.set_printoptions(suppress=True) # 去掉科学计数法显示方式\n",
        "\n",
        "data_ = data.drop(['日期','測站', '測項'], axis=1)\n",
        "\n",
        "x_train_list = []\n",
        "y_train_list = []\n",
        "data_ = data_.replace(['NR'], [0.0])\n",
        "data_ = np.array(data_).astype(float)\n",
        "\n",
        "# 按照上面的描述分割数据集\n",
        "for i in range(0, 4320, 18): # 总共有12*20*18=4320个数据行，以18为步长\n",
        "    for j in range(15): # 每天可以生成15个训练example\n",
        "        example = data_[i:i+18, j:j+9] # example shape (18,9)，这里取出了所有18个测试指标\n",
        "        label = data_[i+9, j+9] # PM2.5的数据\n",
        "        x_train_list.append(example)\n",
        "        y_train_list.append(label)\n",
        "x_train_all = np.array(x_train_list)\n",
        "y_train = np.array(y_train_list)       "
      ],
      "execution_count": 0,
      "outputs": []
    },
    {
      "cell_type": "code",
      "metadata": {
        "id": "HpqCcpSPpXOP",
        "colab_type": "code",
        "colab": {}
      },
      "source": [
        "x_train = []\n",
        "for i in range(3600): # 共3600个examples\n",
        "    x_train.append([])\n",
        "    for j in range(9):\n",
        "        x_train[i].append(x_train_all[i,9,j])\n",
        "x_train = np.array(x_train)"
      ],
      "execution_count": 0,
      "outputs": []
    },
    {
      "cell_type": "code",
      "metadata": {
        "id": "8D_XUiPsvxxP",
        "colab_type": "code",
        "outputId": "356f9c02-82b4-459b-ac97-135004729799",
        "colab": {
          "base_uri": "https://localhost:8080/",
          "height": 50
        }
      },
      "source": [
        "print(x_train.shape)\n",
        "print(y_train.shape)"
      ],
      "execution_count": 27,
      "outputs": [
        {
          "output_type": "stream",
          "text": [
            "(3600, 9)\n",
            "(3600,)\n"
          ],
          "name": "stdout"
        }
      ]
    },
    {
      "cell_type": "markdown",
      "metadata": {
        "id": "XDRvGLZci01I",
        "colab_type": "text"
      },
      "source": [
        "## 训练模型\n",
        "\n",
        "整个过程分成三步，把前面9个小时的PM2.5当做特征，构建最简单的函数：y=wx+b，然后训练得到w和b的值进行预测。\n",
        "\n",
        "1. function set\n",
        "\n",
        "$$\n",
        "y=b+w_{0} x_{0}+w_{1} x_{1}+\\ldots+w_{9} x_{9}\n",
        " $$\n",
        "\n",
        "2. Loss function\n",
        " $$ \n",
        "L=\\frac{1}{2*m} \\Sigma\\left(y-y_{\\text {train}}\\right)^{2}\n",
        " $$\n",
        "\n",
        "3. Find best function : Compute Gradient\n",
        "$$ \n",
        "b=b-\\eta * \\frac{\\vartheta L}{\\vartheta b}=b-\\eta * \\Sigma \\frac{1}{m} *\\left(y-y_{\\text {train}}\\right) \\frac{\\vartheta y}{\\vartheta b}=b-\\eta * \\Sigma \\frac{1}{m} *\\left(y-y_{\\text {train}}\\right)\n",
        " $$\n",
        " $$ \n",
        "w_{i}=w_{i}-\\eta * \\frac{\\vartheta L}{\\vartheta w_{i}}=w_{i}-\\eta * \\Sigma \\frac{1}{m}\\left(y-y_{\\text {train}}\\right) * x_{i}\n",
        " $$\n",
        " \n",
        " 其中m为样本数目"
      ]
    },
    {
      "cell_type": "markdown",
      "metadata": {
        "id": "jvXjYzqoweQF",
        "colab_type": "text"
      },
      "source": [
        "1. Gradient Descent实现"
      ]
    },
    {
      "cell_type": "code",
      "metadata": {
        "id": "KonfuPrucQLz",
        "colab_type": "code",
        "colab": {}
      },
      "source": [
        "# Gradient Descent\n",
        "def GD(x_train, y_train, iteration, lr):\n",
        "    b = 0.0 # 偏置值初始化\n",
        "    w = np.ones(9) # 权重初始化\n",
        "\n",
        "    loss_store = []\n",
        "    for j in range(iteration):\n",
        "        w_grad_sum = 0.0\n",
        "        b_grad_sum = 0.0\n",
        "        loss = 0.0\n",
        "        # 在所有数据上计算梯度，梯度计算时针对损失函数求导\n",
        "        for i in range(y_train.shape[0]):\n",
        "            y = b + np.dot(w, x_train[i])\n",
        "            w_grad = -1.0/y_train.shape[0]*(y_train[i] - y)*x_train[i]\n",
        "            b_grad = -1.0/y_train.shape[0]*(y_train[i] - y)\n",
        "            \n",
        "            w_grad_sum += w_grad\n",
        "            b_grad_sum += b_grad\n",
        "            \n",
        "            error = y_train[i] - y\n",
        "            loss += error**2\n",
        "        w = w - lr*w_grad_sum\n",
        "        b = b - lr*b_grad_sum\n",
        "        loss = loss/y_train.shape[0]\n",
        "        print(\"after {} epochs, the loss is: \".format(j),loss)\n",
        "        loss_store.append(loss)\n",
        "\n",
        "    return w, b, loss_store"
      ],
      "execution_count": 0,
      "outputs": []
    },
    {
      "cell_type": "code",
      "metadata": {
        "id": "22bLfxUvdHOD",
        "colab_type": "code",
        "colab": {}
      },
      "source": [
        "w, b, loss_store = GD(x_train, y_train, 1000, 0.000001)"
      ],
      "execution_count": 0,
      "outputs": []
    },
    {
      "cell_type": "code",
      "metadata": {
        "id": "WXscozZhoQag",
        "colab_type": "code",
        "outputId": "b108d4a7-b17d-435d-80cf-ae1950698946",
        "colab": {
          "base_uri": "https://localhost:8080/",
          "height": 286
        }
      },
      "source": [
        "import matplotlib.pyplot as plt\n",
        "plt.plot(np.arange(len(loss_store)),loss_store)"
      ],
      "execution_count": 0,
      "outputs": [
        {
          "output_type": "execute_result",
          "data": {
            "text/plain": [
              "[<matplotlib.lines.Line2D at 0x7f64f14db128>]"
            ]
          },
          "metadata": {
            "tags": []
          },
          "execution_count": 165
        },
        {
          "output_type": "display_data",
          "data": {
            "image/png": "[encoded data removed]",
            "text/plain": [
              "<Figure size 432x288 with 1 Axes>"
            ]
          },
          "metadata": {
            "tags": []
          }
        }
      ]
    },
    {
      "cell_type": "markdown",
      "metadata": {
        "id": "_P9hD8JQwlEN",
        "colab_type": "text"
      },
      "source": [
        "2. Stochastic Gradient Descent 实现"
      ]
    },
    {
      "cell_type": "code",
      "metadata": {
        "id": "-D7P2Dn61Hdj",
        "colab_type": "code",
        "colab": {}
      },
      "source": [
        "# Stochastic Gradient Descent\n",
        "def SGD(x_train, y_train, iteration, lr):\n",
        "    b = 0.0 # 偏置值初始化\n",
        "    w = np.ones(9) # 权重初始化\n",
        "\n",
        "    loss_store = []\n",
        "    \n",
        "    for j in range(iteration):\n",
        "        # 从数据集中随机选一个数据计算Gradient\n",
        "        rand = np.random.randint(0, y_train.shape[0])\n",
        "    \n",
        "        y = b + np.dot(w, x_train[rand])\n",
        "        w_grad = -1.0*(y_train[rand] - y)*x_train[rand]\n",
        "        b_grad = -1.0*(y_train[rand] - y)\n",
        "\n",
        "        error = y_train[rand] - y\n",
        "        loss = error**2\n",
        "        w = w - lr*w_grad\n",
        "        b = b - lr*b_grad\n",
        "        \n",
        "        loss_store.append(loss)\n",
        "\n",
        "    return w, b, loss_store"
      ],
      "execution_count": 0,
      "outputs": []
    },
    {
      "cell_type": "code",
      "metadata": {
        "id": "asNEX4VZ2yQ5",
        "colab_type": "code",
        "colab": {}
      },
      "source": [
        "w, b, loss_store = SGD(train_x, train_y, 50000, 0.0000001)"
      ],
      "execution_count": 0,
      "outputs": []
    },
    {
      "cell_type": "code",
      "metadata": {
        "id": "D0TzU-P721cB",
        "colab_type": "code",
        "outputId": "705f6625-678d-4541-847e-909ba9e82935",
        "colab": {
          "base_uri": "https://localhost:8080/",
          "height": 286
        }
      },
      "source": [
        "import matplotlib.pyplot as plt\n",
        "plt.plot(np.arange(len(loss_store)),loss_store)"
      ],
      "execution_count": 0,
      "outputs": [
        {
          "output_type": "execute_result",
          "data": {
            "text/plain": [
              "[<matplotlib.lines.Line2D at 0x7f64f193ad68>]"
            ]
          },
          "metadata": {
            "tags": []
          },
          "execution_count": 110
        },
        {
          "output_type": "display_data",
          "data": {
            "image/png": "[encoded data removed]",
            "text/plain": [
              "<Figure size 432x288 with 1 Axes>"
            ]
          },
          "metadata": {
            "tags": []
          }
        }
      ]
    },
    {
      "cell_type": "markdown",
      "metadata": {
        "id": "ZDFg7swLwwzw",
        "colab_type": "text"
      },
      "source": [
        "3. Adagrad实现"
      ]
    },
    {
      "cell_type": "code",
      "metadata": {
        "id": "utSux3Sd3FSg",
        "colab_type": "code",
        "colab": {}
      },
      "source": [
        "def Adagrad(x_train, y_train, iteration, lr):\n",
        "    b = 0.0 # 偏置值初始化\n",
        "    w = np.ones(9) # 权重初始化\n",
        "    b_lr = 0.0\n",
        "    w_lr = 0.0\n",
        "\n",
        "    loss_store = []\n",
        "    for j in range(iteration):\n",
        "        w_grad_sum = 0.0\n",
        "        b_grad_sum = 0.0\n",
        "        loss = 0.0\n",
        "        # 在所有数据上计算梯度，梯度计算时针对损失函数求导\n",
        "        for i in range(y_train.shape[0]):\n",
        "            y = b + np.dot(w, x_train[i])\n",
        "            w_grad = -1.0/y_train.shape[0]*(y_train[i] - y)*x_train[i]\n",
        "            b_grad = -1.0/y_train.shape[0]*(y_train[i] - y)\n",
        "            \n",
        "            w_grad_sum += w_grad\n",
        "            b_grad_sum += b_grad\n",
        "       \n",
        "            error = y_train[i] - y\n",
        "            \n",
        "            loss += error**2\n",
        "        \n",
        "        w_lr = w_lr + w_grad_sum**2\n",
        "        b_lr = b_lr + b_grad_sum**2\n",
        "        \n",
        "        w = w - lr/np.sqrt(w_lr) * w_grad_sum\n",
        "        b = b - lr/np.sqrt(b_lr) * b_grad_sum\n",
        "        loss = loss/y_train.shape[0]/9\n",
        "        print(\"after {} epochs, the loss is: \".format(j),loss)\n",
        "        loss_store.append(loss)\n",
        "\n",
        "    return w, b, loss_store"
      ],
      "execution_count": 0,
      "outputs": []
    },
    {
      "cell_type": "code",
      "metadata": {
        "id": "66tue-1162hH",
        "colab_type": "code",
        "colab": {}
      },
      "source": [
        "w, b, loss_store = Adagrad(x_train, y_train, 100, 0.1)\n",
        "# 训练完的结果(10000, 0.1)： after 9999 epochs, the loss is:  5.13767154668965\n",
        "# 训练完的结果(5000 , 0.5)： after 4999 epochs, the loss is:  4.795303444341576\n",
        "# 训练完的结果(5000 , 1.0)： after 4999 epochs, the loss is:  4.794390440080361"
      ],
      "execution_count": 0,
      "outputs": []
    },
    {
      "cell_type": "code",
      "metadata": {
        "id": "-d7l3AIH4cFe",
        "colab_type": "code",
        "outputId": "60e8f809-6f45-4f4b-b355-ac2f36d6effc",
        "colab": {
          "base_uri": "https://localhost:8080/",
          "height": 286
        }
      },
      "source": [
        "import matplotlib.pyplot as plt\n",
        "plt.plot(np.arange(len(loss_store)),loss_store)"
      ],
      "execution_count": 61,
      "outputs": [
        {
          "output_type": "execute_result",
          "data": {
            "text/plain": [
              "[<matplotlib.lines.Line2D at 0x7fd1830f6ba8>]"
            ]
          },
          "metadata": {
            "tags": []
          },
          "execution_count": 61
        },
        {
          "output_type": "display_data",
          "data": {
            "image/png": "[encoded data removed]",
            "text/plain": [
              "<Figure size 432x288 with 1 Axes>"
            ]
          },
          "metadata": {
            "tags": []
          }
        }
      ]
    },
    {
      "cell_type": "markdown",
      "metadata": {
        "id": "Bt_RBhHK7VBb",
        "colab_type": "text"
      },
      "source": [
        "## 测试数据\n",
        "\n",
        "### 测试数据的处理"
      ]
    },
    {
      "cell_type": "code",
      "metadata": {
        "id": "Q9uYMpiF7a7d",
        "colab_type": "code",
        "colab": {
          "base_uri": "https://localhost:8080/",
          "height": 195
        },
        "outputId": "a7b0d436-1ee4-4b73-dfa6-4e35523b8065"
      },
      "source": [
        "import pandas\n",
        "test_data = pandas.read_csv('test.csv', encoding='utf-8', header=None)# 测试文件的第一行不是列属性\n",
        "test_data.head()"
      ],
      "execution_count": 35,
      "outputs": [
        {
          "output_type": "execute_result",
          "data": {
            "text/html": [
              "<div>\n",
              "<style scoped>\n",
              "    .dataframe tbody tr th:only-of-type {\n",
              "        vertical-align: middle;\n",
              "    }\n",
              "\n",
              "    .dataframe tbody tr th {\n",
              "        vertical-align: top;\n",
              "    }\n",
              "\n",
              "    .dataframe thead th {\n",
              "        text-align: right;\n",
              "    }\n",
              "</style>\n",
              "<table border=\"1\" class=\"dataframe\">\n",
              "  <thead>\n",
              "    <tr style=\"text-align: right;\">\n",
              "      <th></th>\n",
              "      <th>0</th>\n",
              "      <th>1</th>\n",
              "      <th>2</th>\n",
              "      <th>3</th>\n",
              "      <th>4</th>\n",
              "      <th>5</th>\n",
              "      <th>6</th>\n",
              "      <th>7</th>\n",
              "      <th>8</th>\n",
              "      <th>9</th>\n",
              "      <th>10</th>\n",
              "    </tr>\n",
              "  </thead>\n",
              "  <tbody>\n",
              "    <tr>\n",
              "      <th>0</th>\n",
              "      <td>id_0</td>\n",
              "      <td>AMB_TEMP</td>\n",
              "      <td>21</td>\n",
              "      <td>21</td>\n",
              "      <td>20</td>\n",
              "      <td>20</td>\n",
              "      <td>19</td>\n",
              "      <td>19</td>\n",
              "      <td>19</td>\n",
              "      <td>18</td>\n",
              "      <td>17</td>\n",
              "    </tr>\n",
              "    <tr>\n",
              "      <th>1</th>\n",
              "      <td>id_0</td>\n",
              "      <td>CH4</td>\n",
              "      <td>1.7</td>\n",
              "      <td>1.7</td>\n",
              "      <td>1.7</td>\n",
              "      <td>1.7</td>\n",
              "      <td>1.7</td>\n",
              "      <td>1.7</td>\n",
              "      <td>1.7</td>\n",
              "      <td>1.7</td>\n",
              "      <td>1.8</td>\n",
              "    </tr>\n",
              "    <tr>\n",
              "      <th>2</th>\n",
              "      <td>id_0</td>\n",
              "      <td>CO</td>\n",
              "      <td>0.39</td>\n",
              "      <td>0.36</td>\n",
              "      <td>0.36</td>\n",
              "      <td>0.4</td>\n",
              "      <td>0.53</td>\n",
              "      <td>0.55</td>\n",
              "      <td>0.34</td>\n",
              "      <td>0.31</td>\n",
              "      <td>0.23</td>\n",
              "    </tr>\n",
              "    <tr>\n",
              "      <th>3</th>\n",
              "      <td>id_0</td>\n",
              "      <td>NMHC</td>\n",
              "      <td>0.16</td>\n",
              "      <td>0.24</td>\n",
              "      <td>0.22</td>\n",
              "      <td>0.27</td>\n",
              "      <td>0.27</td>\n",
              "      <td>0.26</td>\n",
              "      <td>0.27</td>\n",
              "      <td>0.29</td>\n",
              "      <td>0.1</td>\n",
              "    </tr>\n",
              "    <tr>\n",
              "      <th>4</th>\n",
              "      <td>id_0</td>\n",
              "      <td>NO</td>\n",
              "      <td>1.3</td>\n",
              "      <td>1.3</td>\n",
              "      <td>1.3</td>\n",
              "      <td>1.3</td>\n",
              "      <td>1.4</td>\n",
              "      <td>1.6</td>\n",
              "      <td>1.2</td>\n",
              "      <td>1.1</td>\n",
              "      <td>0.9</td>\n",
              "    </tr>\n",
              "  </tbody>\n",
              "</table>\n",
              "</div>"
            ],
            "text/plain": [
              "     0         1     2     3     4     5     6     7     8     9     10\n",
              "0  id_0  AMB_TEMP    21    21    20    20    19    19    19    18    17\n",
              "1  id_0       CH4   1.7   1.7   1.7   1.7   1.7   1.7   1.7   1.7   1.8\n",
              "2  id_0        CO  0.39  0.36  0.36   0.4  0.53  0.55  0.34  0.31  0.23\n",
              "3  id_0      NMHC  0.16  0.24  0.22  0.27  0.27  0.26  0.27  0.29   0.1\n",
              "4  id_0        NO   1.3   1.3   1.3   1.3   1.4   1.6   1.2   1.1   0.9"
            ]
          },
          "metadata": {
            "tags": []
          },
          "execution_count": 35
        }
      ]
    },
    {
      "cell_type": "code",
      "metadata": {
        "id": "l59VtCnUGCeH",
        "colab_type": "code",
        "colab": {}
      },
      "source": [
        "test_data_ = test_data.drop([0, 1], axis=1)\n",
        "\n",
        "test_data_ = test_data_.replace(['NR'], [0.0])\n",
        "test_data_ = np.array(test_data_).astype(float)\n",
        "\n",
        "test_data_x_list = []\n",
        "\n",
        "# 按照上面的描述分割数据集\n",
        "for i in range(0, 4320, 18): # 测试数据共有4320个数据行，以18为步长\n",
        "    example = test_data_[i:i+18, 0:9] # example shape (18,9)\n",
        "    test_data_x_list.append(example)"
      ],
      "execution_count": 0,
      "outputs": []
    },
    {
      "cell_type": "code",
      "metadata": {
        "id": "Uq3oGr7BINjI",
        "colab_type": "code",
        "colab": {}
      },
      "source": [
        "test_data_x_arr = np.array(test_data_x_list)\n",
        "\n",
        "test_data_x = []\n",
        "for i in range(240): # 总共240个测试数据\n",
        "    test_data_x.append([])\n",
        "    for j in range(9):\n",
        "        test_data_x[i].append(test_data_x_arr[i,9,j])"
      ],
      "execution_count": 0,
      "outputs": []
    },
    {
      "cell_type": "code",
      "metadata": {
        "id": "3U03lDqnJNSa",
        "colab_type": "code",
        "outputId": "f75530cd-3850-4803-dfc3-5ddb1fb1376a",
        "colab": {
          "base_uri": "https://localhost:8080/",
          "height": 34
        }
      },
      "source": [
        "np.array(test_data_x).shape"
      ],
      "execution_count": 0,
      "outputs": [
        {
          "output_type": "execute_result",
          "data": {
            "text/plain": [
              "(240, 9)"
            ]
          },
          "metadata": {
            "tags": []
          },
          "execution_count": 182
        }
      ]
    },
    {
      "cell_type": "code",
      "metadata": {
        "id": "wzCUjpVQJP7X",
        "colab_type": "code",
        "colab": {}
      },
      "source": [
        "# 包含小数部分的提交\n",
        "predict = []\n",
        "for i in range(240):\n",
        "    y = b + np.dot(w,test_data_x[i])\n",
        "    predict.append(y)\n",
        "\n",
        "results = pd.Series(predict, name=\"value\")\n",
        "submission = pd.concat([pd.Series([\"id_%d\" % i for i in range(240)],name = \"id\"),results],axis = 1)\n",
        "submission.to_csv('submission.csv', index=False)"
      ],
      "execution_count": 0,
      "outputs": []
    },
    {
      "cell_type": "code",
      "metadata": {
        "id": "zzhgCYvoSGE9",
        "colab_type": "code",
        "colab": {}
      },
      "source": [
        "# 去掉小数部分\n",
        "res = []\n",
        "for i in range(240):\n",
        "    res.append(int(predict[i]))\n",
        "res\n",
        "\n",
        "results = pd.Series(res, name=\"value\")\n",
        "submission = pd.concat([pd.Series([\"id_%d\" % i for i in range(240)],name = \"id\"),results],axis = 1)\n",
        "submission.to_csv('submission.csv', index=False)"
      ],
      "execution_count": 0,
      "outputs": []
    },
    {
      "cell_type": "code",
      "metadata": {
        "id": "thOmf8hEOEVn",
        "colab_type": "code",
        "outputId": "0c797b52-8efa-4be5-a0aa-966645c996c6",
        "colab": {
          "base_uri": "https://localhost:8080/",
          "height": 195
        }
      },
      "source": [
        "submission.head()"
      ],
      "execution_count": 43,
      "outputs": [
        {
          "output_type": "execute_result",
          "data": {
            "text/html": [
              "<div>\n",
              "<style scoped>\n",
              "    .dataframe tbody tr th:only-of-type {\n",
              "        vertical-align: middle;\n",
              "    }\n",
              "\n",
              "    .dataframe tbody tr th {\n",
              "        vertical-align: top;\n",
              "    }\n",
              "\n",
              "    .dataframe thead th {\n",
              "        text-align: right;\n",
              "    }\n",
              "</style>\n",
              "<table border=\"1\" class=\"dataframe\">\n",
              "  <thead>\n",
              "    <tr style=\"text-align: right;\">\n",
              "      <th></th>\n",
              "      <th>id</th>\n",
              "      <th>value</th>\n",
              "    </tr>\n",
              "  </thead>\n",
              "  <tbody>\n",
              "    <tr>\n",
              "      <th>0</th>\n",
              "      <td>id_0</td>\n",
              "      <td>-0.920462</td>\n",
              "    </tr>\n",
              "    <tr>\n",
              "      <th>1</th>\n",
              "      <td>id_1</td>\n",
              "      <td>8.266412</td>\n",
              "    </tr>\n",
              "    <tr>\n",
              "      <th>2</th>\n",
              "      <td>id_2</td>\n",
              "      <td>19.734244</td>\n",
              "    </tr>\n",
              "    <tr>\n",
              "      <th>3</th>\n",
              "      <td>id_3</td>\n",
              "      <td>1.754795</td>\n",
              "    </tr>\n",
              "    <tr>\n",
              "      <th>4</th>\n",
              "      <td>id_4</td>\n",
              "      <td>21.480813</td>\n",
              "    </tr>\n",
              "  </tbody>\n",
              "</table>\n",
              "</div>"
            ],
            "text/plain": [
              "     id      value\n",
              "0  id_0  -0.920462\n",
              "1  id_1   8.266412\n",
              "2  id_2  19.734244\n",
              "3  id_3   1.754795\n",
              "4  id_4  21.480813"
            ]
          },
          "metadata": {
            "tags": []
          },
          "execution_count": 43
        }
      ]
    },
    {
      "cell_type": "markdown",
      "metadata": {
        "id": "AkF_cdlSQ-2B",
        "colab_type": "text"
      },
      "source": [
        "## 提交结果\n",
        "\n",
        "使用Adagrad训练迭代10000次，学习率为0.1，训练得到的参数结果如下：\n",
        "\n",
        "w: [ 0.0480092  -0.00509123  0.01689356 -0.02796585  0.04653025  0.13340423 -0.31917557  0.1099347   0.96548574]\n",
        "\n",
        "b: 0.7212832358712717\n",
        "\n",
        "提交到Kaggle的得到的分数为：6.50304，在private Leaderboard在13名左右。\n",
        "\n",
        "如果去掉小数部分提交分数为：6.48652\n",
        "\n",
        "----\n",
        "\n",
        "使用Adagrad训练迭代5000次，学习率为0.5，训练得到的参数结果如下：\n",
        "\n",
        "w: [ 0.00667528 -0.0367696   0.18275847 -0.19846756 -0.0345893   0.44443787\n",
        " -0.53391454  0.01922113  1.07311218]\n",
        " \n",
        "b: 2.1087492095813527\n",
        "\n",
        "提交到Kaggle的得到的分数为：5.95125，在private Leaderboard在6名左右。\n",
        "\n",
        "去掉小数部分的分数为：5.98400\n",
        "\n",
        "----\n",
        "\n",
        "使用Adagrad训练迭代5000次，学习率为1.0，训练得到的参数结果如下：\n",
        "\n",
        "w: [ 0.0071957  -0.04571828  0.19905271 -0.20752237 -0.04349567  0.46194178\n",
        " -0.54319042  0.0157119   1.07702657]\n",
        " \n",
        "b: 2.152498260439194\n",
        "\n",
        "提交到Kaggle的得到的分数为：5.93645，在private Leaderboard在6名左右。\n",
        "\n",
        "\n"
      ]
    },
    {
      "cell_type": "code",
      "metadata": {
        "id": "n9pdpdwFJxrt",
        "colab_type": "code",
        "outputId": "f95146de-cbe5-4c75-e9d6-f9090a62bb20",
        "colab": {
          "base_uri": "https://localhost:8080/",
          "height": 50
        }
      },
      "source": [
        "!kaggle competitions submit ml2019spring-hw1 -f submission.csv -m \"submit from colab\""
      ],
      "execution_count": 57,
      "outputs": [
        {
          "output_type": "stream",
          "text": [
            "100% 5.86k/5.86k [00:06<00:00, 995B/s]\n",
            "Successfully submitted to ML2019spring-hw1"
          ],
          "name": "stdout"
        }
      ]
    },
    {
      "cell_type": "markdown",
      "metadata": {
        "id": "ULDKuxrAx4bU",
        "colab_type": "text"
      },
      "source": [
        "## 参考文章\n",
        "\n",
        "完整这个作业过程中参考了以下zhexi文章，感谢这些同学的分享！\n",
        "\n",
        "秋沐霖 : https://www.cnblogs.com/HL-space/p/10676637.html\n",
        "\n",
        "丝瓜藤 : https://zhuanlan.zhihu.com/p/65400308\n",
        "\n",
        "maplezzz : https://github.com/maplezzz/NTU_ML2017_Hung-yi-Lee_HW/tree/master/HW1\n"
      ]
    }
  ]
}