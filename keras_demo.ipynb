{
  "nbformat": 4,
  "nbformat_minor": 0,
  "metadata": {
    "colab": {
      "name": "keras_demo.ipynb",
      "version": "0.3.2",
      "provenance": [],
      "collapsed_sections": [],
      "include_colab_link": true
    },
    "kernelspec": {
      "name": "python3",
      "display_name": "Python 3"
    },
    "accelerator": "GPU"
  },
  "cells": [
    {
      "cell_type": "markdown",
      "metadata": {
        "id": "view-in-github",
        "colab_type": "text"
      },
      "source": [
        "<a href=\"https://colab.research.google.com/github/linlih/ML_By_NTU_Hung-yi-Lee/blob/master/keras_demo.ipynb\" target=\"_parent\"><img src=\"https://colab.research.google.com/assets/colab-badge.svg\" alt=\"Open In Colab\"/></a>"
      ]
    },
    {
      "cell_type": "code",
      "metadata": {
        "id": "BFML5F66J18Z",
        "colab_type": "code",
        "outputId": "d2524272-47aa-475c-fd4a-9f72b42615be",
        "colab": {
          "base_uri": "https://localhost:8080/",
          "height": 34
        }
      },
      "source": [
        "import numpy as np\n",
        "from keras.models import Sequential\n",
        "from keras.layers.core import Dense, Dropout, Activation\n",
        "from keras.layers import Conv2D, MaxPooling2D, Flatten\n",
        "from keras.optimizers import SGD, Adam\n",
        "from keras.utils import np_utils\n",
        "from keras.datasets import mnist"
      ],
      "execution_count": 0,
      "outputs": [
        {
          "output_type": "stream",
          "text": [
            "Using TensorFlow backend.\n"
          ],
          "name": "stderr"
        }
      ]
    },
    {
      "cell_type": "code",
      "metadata": {
        "id": "Dq_V7it5Kn39",
        "colab_type": "code",
        "colab": {}
      },
      "source": [
        "def load_data():\n",
        "    (x_train, y_train), (x_test, y_test) = mnist.load_data()\n",
        "    number = 10000\n",
        "    x_train = x_train[0:number]\n",
        "    y_train = y_train[0:number]\n",
        "    x_train = x_train.reshape(number, 28*28)\n",
        "    x_test = x_test.reshape(x_test.shape[0], 28*28)\n",
        "    x_train = x_train.astype('float32')\n",
        "    x_test = x_test.astype('float32')\n",
        "    \n",
        "    y_train = np_utils.to_categorical(y_train, 10)\n",
        "    y_test = np_utils.to_categorical(y_test, 10)\n",
        "    x_train = x_train\n",
        "    x_test = x_test\n",
        "    \n",
        "    x_train = x_train / 255 # 这里做了normalization，对结果有很大影响\n",
        "    x_test = x_test / 255\n",
        "    return (x_train, y_train), (x_test, y_test)"
      ],
      "execution_count": 0,
      "outputs": []
    },
    {
      "cell_type": "code",
      "metadata": {
        "id": "715vzyPPYLx5",
        "colab_type": "code",
        "outputId": "fade71de-8c4d-4410-b06e-3aef81913e62",
        "colab": {
          "base_uri": "https://localhost:8080/",
          "height": 50
        }
      },
      "source": [
        "(x_train, y_train), (x_test, y_test) = load_data()"
      ],
      "execution_count": 0,
      "outputs": [
        {
          "output_type": "stream",
          "text": [
            "Downloading data from https://s3.amazonaws.com/img-datasets/mnist.npz\n",
            "11493376/11490434 [==============================] - 1s 0us/step\n"
          ],
          "name": "stdout"
        }
      ]
    },
    {
      "cell_type": "code",
      "metadata": {
        "id": "ON_VqG52YOA0",
        "colab_type": "code",
        "outputId": "9b7c9720-11cc-43c5-d055-d5d27927dae3",
        "colab": {
          "base_uri": "https://localhost:8080/",
          "height": 810
        }
      },
      "source": [
        "model = Sequential()\n",
        "model.add(Dense(input_dim=28*28, units=633, activation='sigmoid'))\n",
        "model.add(Dense(units=633, activation='sigmoid'))\n",
        "model.add(Dense(units=633, activation='sigmoid'))\n",
        "model.add(Dense(units=10, activation='softmax'))\n",
        "\n",
        "model.compile(loss='mse', optimizer=SGD(lr=0.1), metrics=['accuracy'])\n",
        "\n",
        "model.fit(x_train, y_train, batch_size=100, epochs=20)\n",
        "\n",
        "result = model.evaluate(x_test, y_test)\n",
        "train_result = model.evaluate(x_train, y_train)\n",
        "\n",
        "print(\"\\nTest Acc:\", result[1])\n",
        "print(\"\\nTrain Acc:\", train_result[1])"
      ],
      "execution_count": 0,
      "outputs": [
        {
          "output_type": "stream",
          "text": [
            "Epoch 1/20\n",
            "10000/10000 [==============================] - 1s 74us/step - loss: 0.0908 - acc: 0.1091\n",
            "Epoch 2/20\n",
            "10000/10000 [==============================] - 1s 52us/step - loss: 0.0901 - acc: 0.1092\n",
            "Epoch 3/20\n",
            "10000/10000 [==============================] - 1s 55us/step - loss: 0.0900 - acc: 0.1117\n",
            "Epoch 4/20\n",
            "10000/10000 [==============================] - 1s 54us/step - loss: 0.0900 - acc: 0.1082\n",
            "Epoch 5/20\n",
            "10000/10000 [==============================] - 1s 56us/step - loss: 0.0900 - acc: 0.1066\n",
            "Epoch 6/20\n",
            "10000/10000 [==============================] - 1s 56us/step - loss: 0.0900 - acc: 0.1114\n",
            "Epoch 7/20\n",
            "10000/10000 [==============================] - 1s 55us/step - loss: 0.0900 - acc: 0.1097\n",
            "Epoch 8/20\n",
            "10000/10000 [==============================] - 1s 56us/step - loss: 0.0900 - acc: 0.1116\n",
            "Epoch 9/20\n",
            "10000/10000 [==============================] - 1s 56us/step - loss: 0.0900 - acc: 0.1103\n",
            "Epoch 10/20\n",
            "10000/10000 [==============================] - 1s 56us/step - loss: 0.0899 - acc: 0.1124\n",
            "Epoch 11/20\n",
            "10000/10000 [==============================] - 1s 56us/step - loss: 0.0899 - acc: 0.1143\n",
            "Epoch 12/20\n",
            "10000/10000 [==============================] - 1s 57us/step - loss: 0.0899 - acc: 0.1143\n",
            "Epoch 13/20\n",
            "10000/10000 [==============================] - 1s 55us/step - loss: 0.0899 - acc: 0.1155\n",
            "Epoch 14/20\n",
            "10000/10000 [==============================] - 1s 56us/step - loss: 0.0899 - acc: 0.1154\n",
            "Epoch 15/20\n",
            "10000/10000 [==============================] - 1s 54us/step - loss: 0.0899 - acc: 0.1157\n",
            "Epoch 16/20\n",
            "10000/10000 [==============================] - 1s 57us/step - loss: 0.0899 - acc: 0.1142\n",
            "Epoch 17/20\n",
            "10000/10000 [==============================] - 1s 64us/step - loss: 0.0899 - acc: 0.1173\n",
            "Epoch 18/20\n",
            "10000/10000 [==============================] - 1s 62us/step - loss: 0.0899 - acc: 0.1186\n",
            "Epoch 19/20\n",
            "10000/10000 [==============================] - 1s 63us/step - loss: 0.0899 - acc: 0.1152\n",
            "Epoch 20/20\n",
            "10000/10000 [==============================] - 1s 59us/step - loss: 0.0899 - acc: 0.1158\n",
            "10000/10000 [==============================] - 1s 57us/step\n",
            "10000/10000 [==============================] - 1s 52us/step\n",
            "\n",
            "Test Acc: 0.1365\n",
            "\n",
            "Train Acc: 0.1421\n"
          ],
          "name": "stdout"
        }
      ]
    },
    {
      "cell_type": "code",
      "metadata": {
        "id": "XOVPx1C-SW81",
        "colab_type": "code",
        "outputId": "2338a06c-22b2-44c8-bc59-9f2e8724b4a1",
        "colab": {
          "base_uri": "https://localhost:8080/",
          "height": 810
        }
      },
      "source": [
        "# loss function设置的不好，在分类问题上使用MSE效果很差，这换成cross entropy\n",
        "model = Sequential()\n",
        "model.add(Dense(input_dim=28*28, units=633, activation='sigmoid'))\n",
        "model.add(Dense(units=633, activation='sigmoid'))\n",
        "model.add(Dense(units=633, activation='sigmoid'))\n",
        "model.add(Dense(units=10, activation='softmax'))\n",
        "\n",
        "model.compile(loss='categorical_crossentropy', optimizer=SGD(lr=0.1), metrics=['accuracy'])\n",
        "\n",
        "model.fit(x_train, y_train, batch_size=100, epochs=20)\n",
        "\n",
        "result = model.evaluate(x_test, y_test)\n",
        "train_result = model.evaluate(x_train, y_train)\n",
        "\n",
        "print(\"\\nTest Acc:\", result[1])\n",
        "print(\"\\nTrain Acc:\", train_result[1])"
      ],
      "execution_count": 0,
      "outputs": [
        {
          "output_type": "stream",
          "text": [
            "Epoch 1/20\n",
            "10000/10000 [==============================] - 1s 83us/step - loss: 2.4955 - acc: 0.0995\n",
            "Epoch 2/20\n",
            "10000/10000 [==============================] - 1s 56us/step - loss: 2.3525 - acc: 0.1054\n",
            "Epoch 3/20\n",
            "10000/10000 [==============================] - 1s 58us/step - loss: 2.3153 - acc: 0.1181\n",
            "Epoch 4/20\n",
            "10000/10000 [==============================] - 1s 58us/step - loss: 2.2861 - acc: 0.1239\n",
            "Epoch 5/20\n",
            "10000/10000 [==============================] - 1s 59us/step - loss: 2.2399 - acc: 0.1802\n",
            "Epoch 6/20\n",
            "10000/10000 [==============================] - 1s 58us/step - loss: 2.1656 - acc: 0.2521\n",
            "Epoch 7/20\n",
            "10000/10000 [==============================] - 1s 61us/step - loss: 1.9641 - acc: 0.3439\n",
            "Epoch 8/20\n",
            "10000/10000 [==============================] - 1s 59us/step - loss: 1.6089 - acc: 0.4518\n",
            "Epoch 9/20\n",
            "10000/10000 [==============================] - 1s 58us/step - loss: 1.3314 - acc: 0.5282\n",
            "Epoch 10/20\n",
            "10000/10000 [==============================] - 1s 60us/step - loss: 1.1308 - acc: 0.6026\n",
            "Epoch 11/20\n",
            "10000/10000 [==============================] - 1s 58us/step - loss: 0.9727 - acc: 0.6617\n",
            "Epoch 12/20\n",
            "10000/10000 [==============================] - 1s 59us/step - loss: 0.8547 - acc: 0.7098\n",
            "Epoch 13/20\n",
            "10000/10000 [==============================] - 1s 59us/step - loss: 0.7757 - acc: 0.7417\n",
            "Epoch 14/20\n",
            "10000/10000 [==============================] - 1s 62us/step - loss: 0.7272 - acc: 0.7552\n",
            "Epoch 15/20\n",
            "10000/10000 [==============================] - 1s 61us/step - loss: 0.6734 - acc: 0.7859\n",
            "Epoch 16/20\n",
            "10000/10000 [==============================] - 1s 59us/step - loss: 0.6263 - acc: 0.8043\n",
            "Epoch 17/20\n",
            "10000/10000 [==============================] - 1s 60us/step - loss: 0.5870 - acc: 0.8228\n",
            "Epoch 18/20\n",
            "10000/10000 [==============================] - 1s 59us/step - loss: 0.5491 - acc: 0.8350\n",
            "Epoch 19/20\n",
            "10000/10000 [==============================] - 1s 59us/step - loss: 0.5200 - acc: 0.8436\n",
            "Epoch 20/20\n",
            "10000/10000 [==============================] - 1s 58us/step - loss: 0.4978 - acc: 0.8527\n",
            "10000/10000 [==============================] - 1s 60us/step\n",
            "10000/10000 [==============================] - 1s 54us/step\n",
            "\n",
            "Test Acc: 0.851\n",
            "\n",
            "Train Acc: 0.8669\n"
          ],
          "name": "stdout"
        }
      ]
    },
    {
      "cell_type": "code",
      "metadata": {
        "id": "5w1Rag4TH50z",
        "colab_type": "code",
        "outputId": "c5987cce-357d-4e40-dd62-dd5390dc0c26",
        "colab": {
          "base_uri": "https://localhost:8080/",
          "height": 860
        }
      },
      "source": [
        "model = Sequential()\n",
        "model.add(Dense(input_dim=28*28, units=633, activation='relu'))\n",
        "model.add(Dense(units=633, activation='relu'))\n",
        "model.add(Dense(units=633, activation='relu'))\n",
        "model.add(Dense(units=10, activation='softmax'))\n",
        "\n",
        "model.compile(loss='mse', optimizer=SGD(lr=0.1), metrics=['accuracy'])\n",
        "\n",
        "model.fit(x_train, y_train, batch_size=100, epochs=20)\n",
        "\n",
        "result = model.evaluate(x_test, y_test)\n",
        "\n",
        "print(\"\\nTest Acc:\", result[1])"
      ],
      "execution_count": 0,
      "outputs": [
        {
          "output_type": "stream",
          "text": [
            "WARNING:tensorflow:From /usr/local/lib/python3.6/dist-packages/tensorflow/python/framework/op_def_library.py:263: colocate_with (from tensorflow.python.framework.ops) is deprecated and will be removed in a future version.\n",
            "Instructions for updating:\n",
            "Colocations handled automatically by placer.\n",
            "WARNING:tensorflow:From /usr/local/lib/python3.6/dist-packages/tensorflow/python/ops/math_ops.py:3066: to_int32 (from tensorflow.python.ops.math_ops) is deprecated and will be removed in a future version.\n",
            "Instructions for updating:\n",
            "Use tf.cast instead.\n",
            "Epoch 1/20\n",
            "10000/10000 [==============================] - 3s 309us/step - loss: 0.0890 - acc: 0.2051\n",
            "Epoch 2/20\n",
            "10000/10000 [==============================] - 1s 54us/step - loss: 0.0860 - acc: 0.4334\n",
            "Epoch 3/20\n",
            "10000/10000 [==============================] - 1s 54us/step - loss: 0.0813 - acc: 0.4817\n",
            "Epoch 4/20\n",
            "10000/10000 [==============================] - 1s 53us/step - loss: 0.0737 - acc: 0.5005\n",
            "Epoch 5/20\n",
            "10000/10000 [==============================] - 1s 56us/step - loss: 0.0639 - acc: 0.5634\n",
            "Epoch 6/20\n",
            "10000/10000 [==============================] - 1s 55us/step - loss: 0.0539 - acc: 0.6882\n",
            "Epoch 7/20\n",
            "10000/10000 [==============================] - 1s 55us/step - loss: 0.0445 - acc: 0.7619\n",
            "Epoch 8/20\n",
            "10000/10000 [==============================] - 1s 54us/step - loss: 0.0371 - acc: 0.7936\n",
            "Epoch 9/20\n",
            "10000/10000 [==============================] - 1s 56us/step - loss: 0.0315 - acc: 0.8366\n",
            "Epoch 10/20\n",
            "10000/10000 [==============================] - 1s 53us/step - loss: 0.0273 - acc: 0.8589\n",
            "Epoch 11/20\n",
            "10000/10000 [==============================] - 1s 56us/step - loss: 0.0244 - acc: 0.8728\n",
            "Epoch 12/20\n",
            "10000/10000 [==============================] - 1s 53us/step - loss: 0.0222 - acc: 0.8801\n",
            "Epoch 13/20\n",
            "10000/10000 [==============================] - 1s 56us/step - loss: 0.0205 - acc: 0.8877\n",
            "Epoch 14/20\n",
            "10000/10000 [==============================] - 1s 54us/step - loss: 0.0192 - acc: 0.8938\n",
            "Epoch 15/20\n",
            "10000/10000 [==============================] - 1s 55us/step - loss: 0.0181 - acc: 0.8989\n",
            "Epoch 16/20\n",
            "10000/10000 [==============================] - 1s 55us/step - loss: 0.0173 - acc: 0.9005\n",
            "Epoch 17/20\n",
            "10000/10000 [==============================] - 1s 55us/step - loss: 0.0165 - acc: 0.9039\n",
            "Epoch 18/20\n",
            "10000/10000 [==============================] - 1s 56us/step - loss: 0.0159 - acc: 0.9067\n",
            "Epoch 19/20\n",
            "10000/10000 [==============================] - 1s 56us/step - loss: 0.0154 - acc: 0.9093\n",
            "Epoch 20/20\n",
            "10000/10000 [==============================] - 1s 55us/step - loss: 0.0149 - acc: 0.9116\n",
            "10000/10000 [==============================] - 1s 52us/step\n",
            "\n",
            "Test Acc: 0.9033\n"
          ],
          "name": "stdout"
        }
      ]
    },
    {
      "cell_type": "code",
      "metadata": {
        "id": "uxeq8WGWTNLC",
        "colab_type": "code",
        "outputId": "c86c03e6-7135-486b-a224-dd99dc9a8b2f",
        "colab": {
          "base_uri": "https://localhost:8080/",
          "height": 759
        }
      },
      "source": [
        "model = Sequential()\n",
        "model.add(Dense(input_dim=28*28, units=633, activation='relu'))\n",
        "model.add(Dense(units=633, activation='relu'))\n",
        "model.add(Dense(units=633, activation='relu'))\n",
        "model.add(Dense(units=10, activation='softmax'))\n",
        "\n",
        "model.compile(loss='categorical_crossentropy', optimizer=SGD(lr=0.1), metrics=['accuracy'])\n",
        "\n",
        "model.fit(x_train, y_train, batch_size=100, epochs=20)\n",
        "\n",
        "result = model.evaluate(x_test, y_test)\n",
        "\n",
        "print(\"\\nTest Acc:\", result[1])"
      ],
      "execution_count": 0,
      "outputs": [
        {
          "output_type": "stream",
          "text": [
            "Epoch 1/20\n",
            "10000/10000 [==============================] - 1s 79us/step - loss: 0.8732 - acc: 0.7533\n",
            "Epoch 2/20\n",
            "10000/10000 [==============================] - 1s 57us/step - loss: 0.3256 - acc: 0.9054\n",
            "Epoch 3/20\n",
            "10000/10000 [==============================] - 1s 56us/step - loss: 0.2445 - acc: 0.9306\n",
            "Epoch 4/20\n",
            "10000/10000 [==============================] - 1s 56us/step - loss: 0.2010 - acc: 0.9419\n",
            "Epoch 5/20\n",
            "10000/10000 [==============================] - 1s 59us/step - loss: 0.1646 - acc: 0.9510\n",
            "Epoch 6/20\n",
            "10000/10000 [==============================] - 1s 59us/step - loss: 0.1354 - acc: 0.9604\n",
            "Epoch 7/20\n",
            "10000/10000 [==============================] - 1s 60us/step - loss: 0.1132 - acc: 0.9674\n",
            "Epoch 8/20\n",
            "10000/10000 [==============================] - 1s 60us/step - loss: 0.0969 - acc: 0.9720\n",
            "Epoch 9/20\n",
            "10000/10000 [==============================] - 1s 60us/step - loss: 0.0843 - acc: 0.9776\n",
            "Epoch 10/20\n",
            "10000/10000 [==============================] - 1s 58us/step - loss: 0.0688 - acc: 0.9824\n",
            "Epoch 11/20\n",
            "10000/10000 [==============================] - 1s 59us/step - loss: 0.0590 - acc: 0.9851\n",
            "Epoch 12/20\n",
            "10000/10000 [==============================] - 1s 58us/step - loss: 0.0491 - acc: 0.9880\n",
            "Epoch 13/20\n",
            "10000/10000 [==============================] - 1s 60us/step - loss: 0.0410 - acc: 0.9910\n",
            "Epoch 14/20\n",
            "10000/10000 [==============================] - 1s 59us/step - loss: 0.0339 - acc: 0.9931\n",
            "Epoch 15/20\n",
            "10000/10000 [==============================] - 1s 58us/step - loss: 0.0280 - acc: 0.9944\n",
            "Epoch 16/20\n",
            "10000/10000 [==============================] - 1s 60us/step - loss: 0.0222 - acc: 0.9970\n",
            "Epoch 17/20\n",
            "10000/10000 [==============================] - 1s 58us/step - loss: 0.0193 - acc: 0.9970\n",
            "Epoch 18/20\n",
            "10000/10000 [==============================] - 1s 59us/step - loss: 0.0163 - acc: 0.9981\n",
            "Epoch 19/20\n",
            "10000/10000 [==============================] - 1s 60us/step - loss: 0.0134 - acc: 0.9988\n",
            "Epoch 20/20\n",
            "10000/10000 [==============================] - 1s 60us/step - loss: 0.0115 - acc: 0.9991\n",
            "10000/10000 [==============================] - 1s 63us/step\n",
            "\n",
            "Test Acc: 0.9522\n"
          ],
          "name": "stdout"
        }
      ]
    },
    {
      "cell_type": "code",
      "metadata": {
        "id": "RiN1Cb3xTxcd",
        "colab_type": "code",
        "outputId": "339bbb71-b34c-4faf-e6ee-88715ec3ac2c",
        "colab": {
          "base_uri": "https://localhost:8080/",
          "height": 759
        }
      },
      "source": [
        "model = Sequential()\n",
        "model.add(Dense(input_dim=28*28, units=633, activation='relu'))\n",
        "model.add(Dense(units=633, activation='relu'))\n",
        "model.add(Dense(units=633, activation='relu'))\n",
        "model.add(Dense(units=10, activation='softmax'))\n",
        "\n",
        "model.compile(loss='categorical_crossentropy', optimizer='adam', metrics=['accuracy'])\n",
        "\n",
        "model.fit(x_train, y_train, batch_size=100, epochs=20)\n",
        "\n",
        "result = model.evaluate(x_test, y_test)\n",
        "\n",
        "print(\"\\nTest Acc:\", result[1])"
      ],
      "execution_count": 0,
      "outputs": [
        {
          "output_type": "stream",
          "text": [
            "Epoch 1/20\n",
            "10000/10000 [==============================] - 1s 118us/step - loss: 0.4443 - acc: 0.8665\n",
            "Epoch 2/20\n",
            "10000/10000 [==============================] - 1s 77us/step - loss: 0.1459 - acc: 0.9562\n",
            "Epoch 3/20\n",
            "10000/10000 [==============================] - 1s 80us/step - loss: 0.0848 - acc: 0.9747\n",
            "Epoch 4/20\n",
            "10000/10000 [==============================] - 1s 80us/step - loss: 0.0492 - acc: 0.9849\n",
            "Epoch 5/20\n",
            "10000/10000 [==============================] - 1s 80us/step - loss: 0.0341 - acc: 0.9887\n",
            "Epoch 6/20\n",
            "10000/10000 [==============================] - 1s 80us/step - loss: 0.0319 - acc: 0.9895\n",
            "Epoch 7/20\n",
            "10000/10000 [==============================] - 1s 80us/step - loss: 0.0334 - acc: 0.9893\n",
            "Epoch 8/20\n",
            "10000/10000 [==============================] - 1s 80us/step - loss: 0.0404 - acc: 0.9864\n",
            "Epoch 9/20\n",
            "10000/10000 [==============================] - 1s 81us/step - loss: 0.0179 - acc: 0.9945\n",
            "Epoch 10/20\n",
            "10000/10000 [==============================] - 1s 80us/step - loss: 0.0086 - acc: 0.9982\n",
            "Epoch 11/20\n",
            "10000/10000 [==============================] - 1s 81us/step - loss: 0.0124 - acc: 0.9955\n",
            "Epoch 12/20\n",
            "10000/10000 [==============================] - 1s 81us/step - loss: 0.0177 - acc: 0.9949\n",
            "Epoch 13/20\n",
            "10000/10000 [==============================] - 1s 81us/step - loss: 0.0122 - acc: 0.9967\n",
            "Epoch 14/20\n",
            "10000/10000 [==============================] - 1s 80us/step - loss: 0.0076 - acc: 0.9977\n",
            "Epoch 15/20\n",
            "10000/10000 [==============================] - 1s 79us/step - loss: 0.0237 - acc: 0.9934\n",
            "Epoch 16/20\n",
            "10000/10000 [==============================] - 1s 81us/step - loss: 0.0326 - acc: 0.9903\n",
            "Epoch 17/20\n",
            "10000/10000 [==============================] - 1s 80us/step - loss: 0.0129 - acc: 0.9957\n",
            "Epoch 18/20\n",
            "10000/10000 [==============================] - 1s 80us/step - loss: 0.0206 - acc: 0.9941\n",
            "Epoch 19/20\n",
            "10000/10000 [==============================] - 1s 81us/step - loss: 0.0038 - acc: 0.9989\n",
            "Epoch 20/20\n",
            "10000/10000 [==============================] - 1s 79us/step - loss: 0.0015 - acc: 0.9996\n",
            "10000/10000 [==============================] - 1s 65us/step\n",
            "\n",
            "Test Acc: 0.966\n"
          ],
          "name": "stdout"
        }
      ]
    },
    {
      "cell_type": "code",
      "metadata": {
        "id": "Q8t9jdmLUoSy",
        "colab_type": "code",
        "colab": {}
      },
      "source": [
        "def load_data():\n",
        "    (x_train, y_train), (x_test, y_test) = mnist.load_data()\n",
        "    number = 10000\n",
        "    x_train = x_train[0:number]\n",
        "    y_train = y_train[0:number]\n",
        "    x_train = x_train.reshape(number, 28*28)\n",
        "    x_test = x_test.reshape(x_test.shape[0], 28*28)\n",
        "    x_train = x_train.astype('float32')\n",
        "    x_test = x_test.astype('float32')\n",
        "    \n",
        "    y_train = np_utils.to_categorical(y_train, 10)\n",
        "    y_test = np_utils.to_categorical(y_test, 10)\n",
        "    x_train = x_train\n",
        "    x_test = x_test\n",
        "    \n",
        "    x_train = x_train / 255 # 这里做了normalization，对结果有很大影响\n",
        "    x_test = x_test / 255\n",
        "    x_test = np.random.normal(x_test)\n",
        "    return (x_train, y_train), (x_test, y_test)"
      ],
      "execution_count": 0,
      "outputs": []
    },
    {
      "cell_type": "code",
      "metadata": {
        "id": "ZwKhss-oUl0j",
        "colab_type": "code",
        "colab": {}
      },
      "source": [
        "(x_train, y_train), (x_test, y_test) = load_data()"
      ],
      "execution_count": 0,
      "outputs": []
    },
    {
      "cell_type": "code",
      "metadata": {
        "id": "1nvTkOc8UF2C",
        "colab_type": "code",
        "outputId": "de1798c6-1987-4ca6-9f7a-7b96e01e397d",
        "colab": {
          "base_uri": "https://localhost:8080/",
          "height": 739
        }
      },
      "source": [
        "model = Sequential()\n",
        "model.add(Dense(input_dim=28*28, units=633, activation='relu'))\n",
        "model.add(Dropout(0.7)) # dropout加在每一个hidden layer后面\n",
        "model.add(Dense(units=633, activation='relu'))\n",
        "model.add(Dropout(0.7))\n",
        "model.add(Dense(units=633, activation='relu'))\n",
        "model.add(Dropout(0.7))\n",
        "model.add(Dense(units=10, activation='softmax'))\n",
        "\n",
        "model.compile(loss='categorical_crossentropy', optimizer='adam', metrics=['accuracy'])\n",
        "\n",
        "model.fit(x_train, y_train, batch_size=100, epochs=20)\n",
        "\n",
        "result = model.evaluate(x_test, y_test)\n",
        "\n",
        "print(\"\\nTest Acc:\", result[1])"
      ],
      "execution_count": 0,
      "outputs": [
        {
          "output_type": "stream",
          "text": [
            "Epoch 1/20\n",
            "10000/10000 [==============================] - 1s 149us/step - loss: 1.5401 - acc: 0.4661\n",
            "Epoch 2/20\n",
            "10000/10000 [==============================] - 1s 88us/step - loss: 0.6387 - acc: 0.7928\n",
            "Epoch 3/20\n",
            "10000/10000 [==============================] - 1s 88us/step - loss: 0.4732 - acc: 0.8574\n",
            "Epoch 4/20\n",
            "10000/10000 [==============================] - 1s 88us/step - loss: 0.3895 - acc: 0.8817\n",
            "Epoch 5/20\n",
            "10000/10000 [==============================] - 1s 88us/step - loss: 0.3529 - acc: 0.8961\n",
            "Epoch 6/20\n",
            "10000/10000 [==============================] - 1s 88us/step - loss: 0.3173 - acc: 0.9056\n",
            "Epoch 7/20\n",
            "10000/10000 [==============================] - 1s 89us/step - loss: 0.2752 - acc: 0.9179\n",
            "Epoch 8/20\n",
            "10000/10000 [==============================] - 1s 89us/step - loss: 0.2646 - acc: 0.9245\n",
            "Epoch 9/20\n",
            "10000/10000 [==============================] - 1s 88us/step - loss: 0.2541 - acc: 0.9237\n",
            "Epoch 10/20\n",
            "10000/10000 [==============================] - 1s 92us/step - loss: 0.2335 - acc: 0.9310\n",
            "Epoch 11/20\n",
            "10000/10000 [==============================] - 1s 89us/step - loss: 0.2439 - acc: 0.9315\n",
            "Epoch 12/20\n",
            "10000/10000 [==============================] - 1s 89us/step - loss: 0.2222 - acc: 0.9379\n",
            "Epoch 13/20\n",
            "10000/10000 [==============================] - 1s 88us/step - loss: 0.1994 - acc: 0.9437\n",
            "Epoch 14/20\n",
            "10000/10000 [==============================] - 1s 88us/step - loss: 0.2004 - acc: 0.9423\n",
            "Epoch 15/20\n",
            "10000/10000 [==============================] - 1s 89us/step - loss: 0.1873 - acc: 0.9465\n",
            "Epoch 16/20\n",
            "10000/10000 [==============================] - 1s 88us/step - loss: 0.1759 - acc: 0.9465\n",
            "Epoch 17/20\n",
            "10000/10000 [==============================] - 1s 88us/step - loss: 0.1695 - acc: 0.9473\n",
            "Epoch 18/20\n",
            "10000/10000 [==============================] - 1s 88us/step - loss: 0.1787 - acc: 0.9473\n",
            "Epoch 19/20\n",
            "10000/10000 [==============================] - 1s 89us/step - loss: 0.1761 - acc: 0.9484\n",
            "Epoch 20/20\n",
            "10000/10000 [==============================] - 1s 89us/step - loss: 0.1630 - acc: 0.9515\n",
            "10000/10000 [==============================] - 1s 78us/step\n",
            "\n",
            "Test Acc: 0.5914\n"
          ],
          "name": "stdout"
        }
      ]
    }
  ]
}